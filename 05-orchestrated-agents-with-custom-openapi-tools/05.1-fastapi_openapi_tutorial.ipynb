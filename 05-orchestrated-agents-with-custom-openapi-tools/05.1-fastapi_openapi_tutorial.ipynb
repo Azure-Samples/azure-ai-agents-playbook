{
 "cells": [
  {
   "cell_type": "markdown",
   "id": "3f49afe0",
   "metadata": {},
   "source": [
    "# FastAPI OpenAPI Integration Tutorial\n",
    "\n",
    "🏦 **Learn how to connect Azure AI Agents to local FastAPI services!**\n",
    "\n",
    "This tutorial demonstrates:\n",
    "- **Starting a FastAPI service** with bank transaction data\n",
    "- **Reading OpenAPI spec** from the running service\n",
    "- **Creating Azure AI Agents** that call the FastAPI endpoints\n",
    "\n",
    "**Use Case**: Connect AI agents to your own custom APIs and services.\n",
    "\n",
    "---"
   ]
  },
  {
   "cell_type": "markdown",
   "id": "1c54eade",
   "metadata": {},
   "source": [
    "## 🔧 Setup and Prerequisites\n",
    "\n",
    "**Environment Variables Required:**\n",
    "- `PROJECT_ENDPOINT`: Your Azure AI Project endpoint\n",
    "- `MODEL_DEPLOYMENT_NAME`: Your deployed AI model name\n",
    "\n",
    "**Additional Requirements:**\n",
    "- FastAPI service running on `http://localhost:port`\n",
    "- The `bank_transactions_api.py` file in the same directory"
   ]
  },
  {
   "cell_type": "code",
   "execution_count": 2,
   "id": "8cfcf685",
   "metadata": {},
   "outputs": [
    {
     "name": "stdout",
     "output_type": "stream",
     "text": [
      "✅ Packages imported successfully!\n"
     ]
    }
   ],
   "source": [
    "# Install required packages\n",
    "# !pip install azure-ai-agents azure-identity semantic-kernel fastapi uvicorn requests \n",
    "\n",
    "import os\n",
    "import json\n",
    "import asyncio\n",
    "import requests\n",
    "import subprocess\n",
    "import time\n",
    "from azure.ai.agents.models import OpenApiTool, OpenApiAnonymousAuthDetails\n",
    "from azure.identity.aio import DefaultAzureCredential\n",
    "from semantic_kernel.agents import AzureAIAgent, AzureAIAgentSettings\n",
    "from semantic_kernel.contents import AuthorRole\n",
    "\n",
    "print(\"✅ Packages imported successfully!\")"
   ]
  },
  {
   "cell_type": "markdown",
   "id": "2ea2b56e",
   "metadata": {},
   "source": [
    "## 🚀 Step 1: Start the FastAPI Service\n",
    "\n",
    "First, we need to start our bank transactions FastAPI service.\n",
    "\n",
    "1. Open a terminal.\n",
    "2. Navigate to the directory containing `bank_transactions_api.py`.\n",
    "3. Activate your Python environment if necessary.\n",
    "4. Run the FastAPI service using the command below.\n",
    "5. Specify a port number (e.g., `8100`).\n",
    "```bash\n",
    "python bank_transactions_api.py 8100\n",
    "```"
   ]
  },
  {
   "cell_type": "code",
   "execution_count": null,
   "id": "a48bdd28",
   "metadata": {},
   "outputs": [
    {
     "name": "stdout",
     "output_type": "stream",
     "text": [
      "🚀 Starting FastAPI bank transactions service...\n",
      "🔍 Checking if FastAPI service is running on port 8000...\n",
      "✅ FastAPI service is running!\n",
      "Service info: {'service': 'Bank Transactions API', 'version': '1.0.0', 'endpoints': {'transactions': '/transactions', 'openapi': '/openapi.json', 'docs': '/docs'}}\n"
     ]
    }
   ],
   "source": [
    "# Start the FastAPI service in the background\n",
    "import subprocess\n",
    "import time\n",
    "\n",
    "print(\"🚀 Starting FastAPI bank transactions service...\")\n",
    "\n",
    "###############\n",
    "## IMPORTANT ##\n",
    "###############\n",
    "# Start the FastAPI server in the background\n",
    "# 1. Open a terminal, and make sure you are in the right directory\n",
    "# 2. Activate your Python environment if needed\n",
    "# 3. Run the following command with a specific port\n",
    "#    Example: python bank_transactions_api.py 8000\n",
    "\n",
    "\n",
    "# Test if the service is running\n",
    "port = 8000  # Default port for FastAPI\n",
    "print(f\"🔍 Checking if FastAPI service is running on port {port}...\")\n",
    "\n",
    "try:\n",
    "    response = requests.get(f\"http://localhost:{port}/\")\n",
    "    if response.status_code == 200:\n",
    "        print(\"✅ FastAPI service is running!\")\n",
    "        print(f\"Service info: {response.json()}\")\n",
    "    else:\n",
    "        print(f\"❌ Service responded with status: {response.status_code}\")\n",
    "except requests.exceptions.ConnectionError:\n",
    "    print(\"❌ Could not connect to FastAPI service. Make sure it's running on port 8000.\")\n",
    "    print(\"💡 You can start it manually with: python bank_transactions_api.py\")"
   ]
  },
  {
   "cell_type": "markdown",
   "id": "77cc4437",
   "metadata": {},
   "source": [
    "## 📋 Step 2: Fetch the OpenAPI Specification\n",
    "\n",
    "Now let's fetch the OpenAPI spec from our running FastAPI service."
   ]
  },
  {
   "cell_type": "code",
   "execution_count": null,
   "id": "b1a30595",
   "metadata": {},
   "outputs": [
    {
     "name": "stdout",
     "output_type": "stream",
     "text": [
      "📋 OpenAPI specification fetched successfully!\n",
      "API Title: Bank Transactions API\n",
      "API Version: 1.0.0\n",
      "Available paths: ['/', '/transactions', '/transactions/{transaction_id}']\n"
     ]
    }
   ],
   "source": [
    "# Fetch the OpenAPI specification from the running service\n",
    "try:    \n",
    "    openapi_url = f\"http://localhost:{port}/openapi.json\"\n",
    "    response = requests.get(openapi_url)\n",
    "    \n",
    "    if response.status_code == 200:\n",
    "        bank_openapi_spec = response.json()\n",
    "        print(\"📋 OpenAPI specification fetched successfully!\")\n",
    "        print(f\"API Title: {bank_openapi_spec['info']['title']}\")\n",
    "        print(f\"API Version: {bank_openapi_spec['info']['version']}\")\n",
    "        print(f\"Available paths: {list(bank_openapi_spec['paths'].keys())}\")\n",
    "    else:\n",
    "        print(f\"❌ Failed to fetch OpenAPI spec: {response.status_code}\")\n",
    "        bank_openapi_spec = None\n",
    "        \n",
    "except requests.exceptions.ConnectionError:\n",
    "    print(\"❌ Could not connect to FastAPI service to fetch OpenAPI spec\")\n",
    "    bank_openapi_spec = None"
   ]
  },
  {
   "cell_type": "markdown",
   "id": "6a772322",
   "metadata": {},
   "source": [
    "### Adding the local FastAPI service to the Azure AI Project"
   ]
  },
  {
   "cell_type": "code",
   "execution_count": 11,
   "id": "29d810cc",
   "metadata": {},
   "outputs": [],
   "source": [
    "bank_openapi_spec[\"servers\"] = [\n",
    "    {\n",
    "        \"url\": f\"http://localhost:{port}\",\n",
    "    }\n",
    "]"
   ]
  },
  {
   "cell_type": "markdown",
   "id": "1141b7e2",
   "metadata": {},
   "source": [
    "## 🤖 Step 3: Create Azure AI Agent with FastAPI Tools\n",
    "\n",
    "Now we'll create an Azure AI Agent that can call our FastAPI endpoints."
   ]
  },
  {
   "cell_type": "code",
   "execution_count": 12,
   "id": "3de723b4",
   "metadata": {},
   "outputs": [
    {
     "name": "stdout",
     "output_type": "stream",
     "text": [
      "🔗 Creating Azure AI Agent with FastAPI tools...\n",
      "🏦 Bank assistant agent created: asst_5HSJa0RwQPRQAqHTmq4X2bXe\n",
      "\n",
      "🧪 Test Query 1:\n",
      "👤 User: Show me my latest bank transactions and tell me how much I spent on food.\n",
      "🏦 Bank Assistant: I'm sorry, but I encountered an error while trying to retrieve your latest bank transactions.\n",
      "\n",
      "Would you like me to try again or help you with something else, such as understanding how to track your food expenses manually? Let me know how you'd like to proceed!\n",
      "\n",
      "==================================================\n",
      "\n",
      "🧪 Test Query 2:\n",
      "👤 User: What was my largest expense recently and what category was it in?\n",
      "🏦 Bank Assistant: I'm currently unable to access your recent transaction data due to a system issue. Because of this, I can't identify your largest recent expense or its category right now.\n",
      "\n",
      "If you’d like, I can try again in a moment, or help you with budgeting tips, expense tracking habits, or any other financial questions you might have! Just let me know how you’d like to proceed.\n",
      "\n",
      "==================================================\n",
      "\n",
      "🧪 Test Query 3:\n",
      "👤 User: Can you give me a summary of my account balance and recent activity?\n",
      "🏦 Bank Assistant: I'm sorry, but I'm currently unable to retrieve your account balance and recent activity due to a technical issue with the system.\n",
      "\n",
      "If you have another specific question, need financial guidance, or would like tips on tracking your account activity manually, I'd be happy to help! Let me know how you'd like to proceed.\n",
      "\n",
      "==================================================\n",
      "\n",
      "🧹 Bank agent cleaned up\n"
     ]
    },
    {
     "name": "stderr",
     "output_type": "stream",
     "text": [
      "ERROR:root:Error while closing connector: ClientConnectionError('Connection lost: SSL shutdown timed out')\n"
     ]
    },
    {
     "name": "stdout",
     "output_type": "stream",
     "text": [
      "\n",
      "✅ Bank assistant demonstration complete!\n"
     ]
    }
   ],
   "source": [
    "# Create Azure AI Agent with FastAPI OpenAPI tools\n",
    "async def create_bank_agent():\n",
    "    if bank_openapi_spec is None:\n",
    "        print(\"❌ Cannot create agent without OpenAPI spec\")\n",
    "        return\n",
    "    \n",
    "    endpoint = os.environ[\"PROJECT_ENDPOINT\"]\n",
    "    model_deployment = os.environ[\"MODEL_DEPLOYMENT_NAME\"]\n",
    "\n",
    "    async with (\n",
    "        DefaultAzureCredential() as creds,\n",
    "        AzureAIAgent.create_client(credential=creds, endpoint=endpoint) as client,\n",
    "    ):\n",
    "        print(\"🔗 Creating Azure AI Agent with FastAPI tools...\")\n",
    "        \n",
    "        # Create OpenAPI tool for bank transactions\n",
    "        auth = OpenApiAnonymousAuthDetails()\n",
    "        \n",
    "        bank_tool = OpenApiTool(\n",
    "            name=\"bank_transactions\",\n",
    "            spec=bank_openapi_spec,\n",
    "            description=\"Get bank transaction data from the local FastAPI service\",\n",
    "            auth=auth\n",
    "        )\n",
    "        \n",
    "        # Create Azure AI agent with the FastAPI tool\n",
    "        agent_definition = await client.agents.create_agent(\n",
    "            model=model_deployment,\n",
    "            name=\"bank_assistant\",\n",
    "            instructions=\"\"\"You are a helpful bank assistant. Use the bank transactions API to help users understand their financial data. \n",
    "            Always provide clear explanations of transactions, categorize spending, and offer helpful insights about financial patterns.\n",
    "            When showing transactions, format them nicely and explain what each field means.\"\"\",\n",
    "            tools=bank_tool.definitions\n",
    "        )\n",
    "        \n",
    "        # Wrap as AzureAIAgent\n",
    "        bank_agent = AzureAIAgent(\n",
    "            client=client,\n",
    "            definition=agent_definition\n",
    "        )\n",
    "        \n",
    "        print(f\"🏦 Bank assistant agent created: {agent_definition.id}\")\n",
    "        \n",
    "        # Test queries\n",
    "        test_queries = [\n",
    "            \"Show me my latest bank transactions and tell me how much I spent on food.\",\n",
    "            \"What was my largest expense recently and what category was it in?\",\n",
    "            \"Can you give me a summary of my account balance and recent activity?\"\n",
    "        ]\n",
    "        \n",
    "        thread = None\n",
    "        \n",
    "        try:\n",
    "            for i, query in enumerate(test_queries, 1):\n",
    "                print(f\"\\n🧪 Test Query {i}:\")\n",
    "                print(f\"👤 User: {query}\")\n",
    "                \n",
    "                # Invoke the agent\n",
    "                async for response in bank_agent.invoke(messages=query, thread=thread):\n",
    "                    if response.role != AuthorRole.TOOL:\n",
    "                        print(f\"🏦 Bank Assistant: {response.content}\")\n",
    "                    thread = response.thread\n",
    "                \n",
    "                print(\"\\n\" + \"=\"*50)\n",
    "        \n",
    "        finally:\n",
    "            # Cleanup\n",
    "            if thread:\n",
    "                await client.agents.threads.delete(thread.id)\n",
    "            await client.agents.delete_agent(agent_definition.id)\n",
    "            print(\"\\n🧹 Bank agent cleaned up\")\n",
    "\n",
    "# Run the bank agent\n",
    "await create_bank_agent()\n",
    "print(\"\\n✅ Bank assistant demonstration complete!\")"
   ]
  },
  {
   "cell_type": "markdown",
   "id": "0f40a27d",
   "metadata": {},
   "source": [
    "## 🧪 Step 4: Test Individual API Endpoints\n",
    "\n",
    "Let's also test the FastAPI endpoints directly to understand what data is available."
   ]
  },
  {
   "cell_type": "code",
   "execution_count": null,
   "id": "f9e8729b",
   "metadata": {},
   "outputs": [],
   "source": [
    "# Test the FastAPI endpoints directly\n",
    "if bank_openapi_spec is not None:\n",
    "    print(\"🧪 Testing FastAPI endpoints directly:\")\n",
    "    \n",
    "    # Test getting all transactions\n",
    "    try:\n",
    "        response = requests.get(\"http://localhost:8000/transactions\")\n",
    "        if response.status_code == 200:\n",
    "            transactions = response.json()\n",
    "            print(f\"\\n💳 Found {len(transactions)} transactions:\")\n",
    "            for txn in transactions:\n",
    "                print(f\"  {txn['date']}: {txn['description']} - ${txn['amount']:.2f} ({txn['category']})\")\n",
    "        else:\n",
    "            print(f\"❌ Failed to get transactions: {response.status_code}\")\n",
    "    except Exception as e:\n",
    "        print(f\"❌ Error testing transactions endpoint: {e}\")\n",
    "    \n",
    "    # Test getting a specific transaction\n",
    "    try:\n",
    "        response = requests.get(\"http://localhost:8000/transactions/txn_001\")\n",
    "        if response.status_code == 200:\n",
    "            transaction = response.json()\n",
    "            print(f\"\\n🔍 Transaction txn_001 details:\")\n",
    "            print(f\"  Date: {transaction['date']}\")\n",
    "            print(f\"  Description: {transaction['description']}\")\n",
    "            print(f\"  Amount: ${transaction['amount']:.2f}\")\n",
    "            print(f\"  Balance: ${transaction['balance']:.2f}\")\n",
    "            print(f\"  Category: {transaction['category']}\")\n",
    "        else:\n",
    "            print(f\"❌ Failed to get specific transaction: {response.status_code}\")\n",
    "    except Exception as e:\n",
    "        print(f\"❌ Error testing specific transaction endpoint: {e}\")\n",
    "else:\n",
    "    print(\"⏭️ Skipping direct API tests - OpenAPI spec not available\")"
   ]
  },
  {
   "cell_type": "markdown",
   "id": "ea08256a",
   "metadata": {},
   "source": [
    "## 🛑 Step 5: Cleanup\n",
    "\n",
    "Finally, let's stop the FastAPI service."
   ]
  },
  {
   "cell_type": "code",
   "execution_count": null,
   "id": "286b57c0",
   "metadata": {},
   "outputs": [],
   "source": [
    "# Stop the FastAPI service\n",
    "try:\n",
    "    if 'fastapi_process' in locals():\n",
    "        fastapi_process.terminate()\n",
    "        fastapi_process.wait(timeout=5)\n",
    "        print(\"🛑 FastAPI service stopped\")\n",
    "    else:\n",
    "        print(\"💡 FastAPI process not found - it may have been started manually\")\n",
    "        print(\"   If you started it manually, you can stop it with Ctrl+C in the terminal\")\n",
    "except Exception as e:\n",
    "    print(f\"⚠️ Note: {e}\")\n",
    "    print(\"💡 You may need to manually stop the FastAPI service if it's still running\")\n",
    "\n",
    "print(\"\\n✅ Tutorial complete!\")"
   ]
  },
  {
   "cell_type": "markdown",
   "id": "251eecb0",
   "metadata": {},
   "source": [
    "---\n",
    "\n",
    "## 🎯 Key Takeaways\n",
    "\n",
    "✅ **FastAPI Integration:**\n",
    "- FastAPI automatically generates OpenAPI specifications\n",
    "- Azure AI Agents can consume any OpenAPI-compliant service\n",
    "- Local development services work seamlessly with cloud agents\n",
    "\n",
    "✅ **Dynamic API Discovery:**\n",
    "- Fetch OpenAPI specs from running services\n",
    "- No need to manually create API definitions\n",
    "- Agents automatically understand available endpoints\n",
    "\n",
    "✅ **Real-world Applications:**\n",
    "- Connect agents to internal business APIs\n",
    "- Integrate with existing microservices\n",
    "- Create conversational interfaces for data services\n",
    "\n",
    "### 💡 Best Practices:\n",
    "\n",
    "🔒 **Security**: Use proper authentication for production APIs\n",
    "📝 **Documentation**: Ensure OpenAPI specs have good descriptions\n",
    "⚡ **Performance**: Consider rate limiting and caching\n",
    "🧪 **Testing**: Always test both API endpoints and agent integration\n",
    "🔄 **Error Handling**: Implement robust error handling in both API and agent\n",
    "\n",
    "### 🚀 Next Steps:\n",
    "\n",
    "- Add authentication to your FastAPI service\n",
    "- Create more complex business logic APIs\n",
    "- Combine multiple microservices with one agent\n",
    "- Deploy both API and agents to production\n",
    "\n",
    "**Happy API integrating!** 🎉"
   ]
  }
 ],
 "metadata": {
  "kernelspec": {
   "display_name": ".venv",
   "language": "python",
   "name": "python3"
  },
  "language_info": {
   "codemirror_mode": {
    "name": "ipython",
    "version": 3
   },
   "file_extension": ".py",
   "mimetype": "text/x-python",
   "name": "python",
   "nbconvert_exporter": "python",
   "pygments_lexer": "ipython3",
   "version": "3.13.3"
  }
 },
 "nbformat": 4,
 "nbformat_minor": 5
}
