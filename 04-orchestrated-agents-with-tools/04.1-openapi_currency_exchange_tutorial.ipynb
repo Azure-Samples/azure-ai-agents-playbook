{
 "cells": [
  {
   "cell_type": "markdown",
   "id": "722786d7",
   "metadata": {},
   "source": [
    "# OpenAPI Currency Exchange Tutorial\n",
    "\n",
    "💱 **Learn how to use OpenAPI tools with Azure AI Agents for currency exchange!**\n",
    "\n",
    "This tutorial demonstrates:\n",
    "1. **Part 1: Azure AI Foundry SDK** - Using OpenAPI tools for currency exchange\n",
    "2. **Part 2: Semantic Kernel SDK** - Azure AI Agents with OpenAPI tools\n",
    "\n",
    "**OpenAPI tools** allow agents to call external APIs defined by OpenAPI specifications.\n",
    "\n",
    "---"
   ]
  },
  {
   "cell_type": "markdown",
   "id": "3462f435",
   "metadata": {},
   "source": [
    "## 🔧 Setup and Prerequisites\n",
    "\n",
    "**Environment Variables Required:**\n",
    "- `PROJECT_ENDPOINT`: Your Azure AI Project endpoint\n",
    "- `MODEL_DEPLOYMENT_NAME`: Your deployed AI model name\n",
    "\n",
    "**For Semantic Kernel:**\n",
    "- `AZURE_OPENAI_ENDPOINT`: Your Azure OpenAI endpoint\n",
    "- `AZURE_OPENAI_API_KEY`: Your Azure OpenAI API key\n",
    "- `AZURE_OPENAI_CHAT_DEPLOYMENT_NAME`: Your chat model deployment"
   ]
  },
  {
   "cell_type": "code",
   "execution_count": 2,
   "id": "b537879e",
   "metadata": {},
   "outputs": [
    {
     "name": "stdout",
     "output_type": "stream",
     "text": [
      "✅ Packages imported successfully!\n"
     ]
    }
   ],
   "source": [
    "# Install required packages\n",
    "# !pip install azure-ai-agents azure-identity semantic-kernel\n",
    "\n",
    "import os\n",
    "import json\n",
    "import json\n",
    "from azure.ai.agents import AgentsClient\n",
    "from azure.ai.agents.models import OpenApiTool, OpenApiAnonymousAuthDetails, MessageRole\n",
    "from azure.identity import DefaultAzureCredential\n",
    "\n",
    "print(\"✅ Packages imported successfully!\")"
   ]
  },
  {
   "cell_type": "markdown",
   "id": "dc9b86d2",
   "metadata": {},
   "source": [
    "---\n",
    "\n",
    "# Part 1: Azure AI Foundry SDK - OpenAPI Currency Exchange\n",
    "\n",
    "The Foundry SDK provides **OpenApiTool** to call external APIs from agent responses.\n",
    "\n",
    "**Architecture:**\n",
    "```\n",
    "Agent → OpenAPI Tool → Frankfurter API (currency exchange)\n",
    "```"
   ]
  },
  {
   "cell_type": "code",
   "execution_count": 3,
   "id": "7c2c2b11",
   "metadata": {},
   "outputs": [
    {
     "name": "stdout",
     "output_type": "stream",
     "text": [
      "📊 Currency exchange OpenAPI spec loaded\n",
      "API Title: Frankfurter Exchange Rates API\n",
      "API Version: 1.0\n"
     ]
    }
   ],
   "source": [
    "# Load the currency exchange OpenAPI specification\n",
    "currency_spec_path = os.path.join(\"openapi_files\", \"currency_exchange.json\")\n",
    "\n",
    "with open(currency_spec_path, \"r\") as f:\n",
    "    currency_openapi_spec = json.loads(f.read())\n",
    "\n",
    "print(\"📊 Currency exchange OpenAPI spec loaded\")\n",
    "print(f\"API Title: {currency_openapi_spec['info']['title']}\")\n",
    "print(f\"API Version: {currency_openapi_spec['info']['version']}\")"
   ]
  },
  {
   "cell_type": "code",
   "execution_count": 9,
   "id": "fc7d01a1",
   "metadata": {},
   "outputs": [
    {
     "name": "stdout",
     "output_type": "stream",
     "text": [
      "🔗 Connected to Azure AI Agents service\n"
     ]
    }
   ],
   "source": [
    "# Create Azure AI Agents client\n",
    "agents_client = AgentsClient(\n",
    "    endpoint=os.environ[\"PROJECT_ENDPOINT\"],\n",
    "    credential=DefaultAzureCredential()\n",
    ")\n",
    "\n",
    "print(\"🔗 Connected to Azure AI Agents service\")"
   ]
  },
  {
   "cell_type": "code",
   "execution_count": 10,
   "id": "4765128f",
   "metadata": {},
   "outputs": [
    {
     "name": "stdout",
     "output_type": "stream",
     "text": [
      "💱 Currency exchange OpenAPI tool created\n",
      "Available operations: 1\n"
     ]
    }
   ],
   "source": [
    "# Create OpenAPI tool for currency exchange\n",
    "auth = OpenApiAnonymousAuthDetails()\n",
    "\n",
    "currency_tool = OpenApiTool(\n",
    "    name=\"currency_exchange\",\n",
    "    spec=currency_openapi_spec,\n",
    "    description=\"Get the latest foreign exchange rates from Frankfurter API\",\n",
    "    auth=auth\n",
    ")\n",
    "\n",
    "print(\"💱 Currency exchange OpenAPI tool created\")\n",
    "print(f\"Available operations: {len(currency_tool.definitions)}\")"
   ]
  },
  {
   "cell_type": "code",
   "execution_count": 11,
   "id": "311f8471",
   "metadata": {},
   "outputs": [
    {
     "name": "stdout",
     "output_type": "stream",
     "text": [
      "💰 Currency exchange agent created: asst_qvUdFZdSHcUaIGEQJw0H8yl7\n"
     ]
    }
   ],
   "source": [
    "# Create agent with OpenAPI tool\n",
    "currency_agent = agents_client.create_agent(\n",
    "    model=os.environ[\"MODEL_DEPLOYMENT_NAME\"],\n",
    "    name=\"currency_exchange_agent\",\n",
    "    instructions=\"You are a helpful currency exchange agent. Use the currency exchange API to get latest exchange rates. Always provide clear explanations of the rates.\",\n",
    "    tools=currency_tool.definitions\n",
    ")\n",
    "\n",
    "print(f\"💰 Currency exchange agent created: {currency_agent.id}\")"
   ]
  },
  {
   "cell_type": "code",
   "execution_count": 12,
   "id": "60be3a08",
   "metadata": {},
   "outputs": [
    {
     "name": "stdout",
     "output_type": "stream",
     "text": [
      "💬 Thread created: thread_pFQIiRPFrelua9JQYg60MUgc\n",
      "✅ Run status: RunStatus.COMPLETED\n",
      "\n",
      "💱 Currency Agent Response:\n",
      "Here are the latest exchange rates for 1 US Dollar (USD):\n",
      "\n",
      "- USD to Euro (EUR): 0.87827\n",
      "- USD to British Pound (GBP): 0.74091\n",
      "- USD to Japanese Yen (JPY): 143.16\n",
      "\n",
      "This means:\n",
      "- 1 USD is approximately 0.88 EUR\n",
      "- 1 USD is about 0.74 GBP\n",
      "- 1 USD is about 143.16 JPY\n",
      "\n",
      "Let me know if you need any other currency rates or more details!\n"
     ]
    }
   ],
   "source": [
    "# Test the currency exchange agent\n",
    "# Create conversation thread\n",
    "thread = agents_client.threads.create()\n",
    "print(f\"💬 Thread created: {thread.id}\")\n",
    "\n",
    "# Ask about exchange rates\n",
    "message = agents_client.messages.create(\n",
    "    thread_id=thread.id,\n",
    "    role=MessageRole.USER,\n",
    "    content=\"What is the current USD to EUR exchange rate? Also show me USD to GBP and USD to JPY.\"\n",
    ")\n",
    "\n",
    "# Process the request\n",
    "run = agents_client.runs.create_and_process(\n",
    "    thread_id=thread.id,\n",
    "    agent_id=currency_agent.id\n",
    ")\n",
    "\n",
    "print(f\"✅ Run status: {run.status}\")\n",
    "\n",
    "if run.status == \"failed\":\n",
    "    print(f\"❌ Run failed: {run.last_error}\")\n",
    "\n",
    "# Display the response\n",
    "messages = agents_client.messages.list(thread_id=thread.id)\n",
    "for msg in messages:\n",
    "    if msg.role == \"assistant\" and msg.text_messages:\n",
    "        print(f\"\\n💱 Currency Agent Response:\")\n",
    "        print(msg.text_messages[-1].text.value)\n",
    "        break"
   ]
  },
  {
   "cell_type": "code",
   "execution_count": 13,
   "id": "58aae8b0",
   "metadata": {},
   "outputs": [
    {
     "name": "stdout",
     "output_type": "stream",
     "text": [
      "✅ Second run status: RunStatus.COMPLETED\n",
      "\n",
      "💱 Currency Agent Response (EUR base):\n",
      "Here are the latest exchange rates for 1 Euro (EUR):\n",
      "\n",
      "- EUR to US Dollar (USD): 1.1386\n",
      "- EUR to British Pound (GBP): 0.8436\n",
      "- EUR to Swiss Franc (CHF): 0.9358\n",
      "\n",
      "This means:\n",
      "- 1 EUR is about 1.14 USD\n",
      "- 1 EUR is about 0.84 GBP\n",
      "- 1 EUR is about 0.94 CHF\n",
      "\n",
      "If you'd like more currencies or further details, just let me know!\n"
     ]
    }
   ],
   "source": [
    "# Test with different base currency\n",
    "# Create new message in same thread\n",
    "message2 = agents_client.messages.create(\n",
    "    thread_id=thread.id,\n",
    "    role=MessageRole.USER,\n",
    "    content=\"Now show me EUR to USD, EUR to GBP, and EUR to CHF exchange rates.\"\n",
    ")\n",
    "\n",
    "# Process the request\n",
    "run2 = agents_client.runs.create_and_process(\n",
    "    thread_id=thread.id,\n",
    "    agent_id=currency_agent.id\n",
    ")\n",
    "\n",
    "print(f\"✅ Second run status: {run2.status}\")\n",
    "\n",
    "# Display the latest response\n",
    "messages = agents_client.messages.list(thread_id=thread.id)\n",
    "print(f\"\\n💱 Currency Agent Response (EUR base):\")\n",
    "for msg in messages:\n",
    "    if msg.role == \"assistant\" and msg.text_messages:\n",
    "        print(msg.text_messages[-1].text.value)\n",
    "        break"
   ]
  },
  {
   "cell_type": "markdown",
   "id": "1c273d01",
   "metadata": {},
   "source": [
    "---\n",
    "\n",
    "# Part 2: Semantic Kernel SDK - Azure AI Agent with OpenAPI Tools\n",
    "\n",
    "Semantic Kernel provides **AzureAIAgent** to wrap Azure AI agents with OpenAPI tools.\n",
    "\n",
    "**Architecture:**\n",
    "```\n",
    "Semantic Kernel\n",
    "    ↓\n",
    "AzureAIAgent (wraps Azure AI agent with OpenAPI tools)\n",
    "    ↓\n",
    "Frankfurter API (currency exchange)\n",
    "```"
   ]
  },
  {
   "cell_type": "code",
   "execution_count": 14,
   "id": "037b5599",
   "metadata": {},
   "outputs": [
    {
     "name": "stdout",
     "output_type": "stream",
     "text": [
      "📚 Semantic Kernel imports loaded\n"
     ]
    }
   ],
   "source": [
    "# Semantic Kernel imports\n",
    "import asyncio\n",
    "from azure.identity.aio import DefaultAzureCredential as AsyncDefaultAzureCredential\n",
    "from semantic_kernel.agents import AzureAIAgent, AzureAIAgentSettings\n",
    "from semantic_kernel.contents import AuthorRole\n",
    "\n",
    "print(\"📚 Semantic Kernel imports loaded\")"
   ]
  },
  {
   "cell_type": "code",
   "execution_count": 15,
   "id": "7a3d1814",
   "metadata": {},
   "outputs": [
    {
     "name": "stdout",
     "output_type": "stream",
     "text": [
      "🔗 Creating SK Azure AI Agent with OpenAPI tools...\n",
      "💰 SK Currency agent created: asst_q3nzMUbzsa9Akuudqc8AMfUn\n",
      "\n",
      "🧪 Test Query 1:\n",
      "👤 User: What's the current exchange rate from USD to THB (Thai Baht)? I'm planning a trip to Thailand.\n",
      "💱 SK Currency Agent: As of today, the current exchange rate is:\n",
      "\n",
      "1 US Dollar (USD) = 32.60 Thai Baht (THB)\n",
      "\n",
      "This means that for every US dollar, you'll receive 32.60 Thai baht. Keep in mind that exchange rates can fluctuate, and currency exchange booths or banks may charge a small fee or offer a slightly different rate than the official one. It's a good idea to check rates before exchanging large amounts or to use a trusted service for the best value. Safe travels to Thailand!\n",
      "\n",
      "🧪 Test Query 2:\n",
      "👤 User: Show me how much 1000 USD would be worth in EUR, GBP, and CAD today.\n",
      "💱 SK Currency Agent: Here are the current exchange rates for 1 US Dollar (USD):\n",
      "\n",
      "- 0.87827 Euro (EUR)\n",
      "- 0.74091 British Pound (GBP)\n",
      "- 1.3739 Canadian Dollar (CAD)\n",
      "\n",
      "So, if you exchange 1,000 USD today, you would get:\n",
      "\n",
      "- EUR: 1,000 × 0.87827 = €878.27\n",
      "- GBP: 1,000 × 0.74091 = £740.91\n",
      "- CAD: 1,000 × 1.3739 = C$1,373.90\n",
      "\n",
      "These amounts are based on the latest rates and do not include any additional fees that banks or currency exchange services might charge. If you need these figures converted for a different amount or want guidance on the best way to exchange your cash, feel free to ask!\n",
      "\n",
      "🧹 SK agent cleaned up\n"
     ]
    },
    {
     "name": "stderr",
     "output_type": "stream",
     "text": [
      "ERROR:root:Error while closing connector: ClientConnectionError('Connection lost: SSL shutdown timed out')\n"
     ]
    },
    {
     "name": "stdout",
     "output_type": "stream",
     "text": [
      "\n",
      "✅ Semantic Kernel Azure AI Agent with OpenAPI complete!\n"
     ]
    }
   ],
   "source": [
    "# Create Azure AI Agent with OpenAPI tools using Semantic Kernel\n",
    "async def create_sk_currency_agent():\n",
    "    endpoint = os.environ[\"PROJECT_ENDPOINT\"]\n",
    "    model_deployment = os.environ[\"MODEL_DEPLOYMENT_NAME\"]\n",
    "\n",
    "    async with (\n",
    "        AsyncDefaultAzureCredential() as creds,\n",
    "        AzureAIAgent.create_client(credential=creds, endpoint=endpoint) as sk_client,\n",
    "    ):\n",
    "        print(\"🔗 Creating SK Azure AI Agent with OpenAPI tools...\")\n",
    "        \n",
    "        # Create Azure AI agent with OpenAPI tool using SK\n",
    "        agent_definition = await sk_client.agents.create_agent(\n",
    "            model=model_deployment,\n",
    "            name=\"sk_currency_agent\",\n",
    "            instructions=\"You are an expert currency exchange assistant. Use the currency exchange API to provide accurate, up-to-date exchange rates. Always explain the rates clearly and provide context.\",\n",
    "            tools=currency_tool.definitions\n",
    "        )\n",
    "        \n",
    "        # Wrap as AzureAIAgent\n",
    "        sk_currency_agent = AzureAIAgent(\n",
    "            client=sk_client,\n",
    "            definition=agent_definition\n",
    "        )\n",
    "        \n",
    "        print(f\"💰 SK Currency agent created: {agent_definition.id}\")\n",
    "        \n",
    "        # Test queries\n",
    "        test_queries = [\n",
    "            \"What's the current exchange rate from USD to THB (Thai Baht)? I'm planning a trip to Thailand.\",\n",
    "            \"Show me how much 1000 USD would be worth in EUR, GBP, and CAD today.\"\n",
    "        ]\n",
    "        \n",
    "        thread = None\n",
    "        \n",
    "        try:\n",
    "            for i, query in enumerate(test_queries, 1):\n",
    "                print(f\"\\n🧪 Test Query {i}:\")\n",
    "                print(f\"👤 User: {query}\")\n",
    "                \n",
    "                # Invoke the agent\n",
    "                async for response in sk_currency_agent.invoke(messages=query, thread=thread):\n",
    "                    if response.role != AuthorRole.TOOL:\n",
    "                        print(f\"💱 SK Currency Agent: {response.content}\")\n",
    "                    thread = response.thread\n",
    "        \n",
    "        finally:\n",
    "            # Cleanup\n",
    "            if thread:\n",
    "                await sk_client.agents.threads.delete(thread.id)\n",
    "            await sk_client.agents.delete_agent(agent_definition.id)\n",
    "            print(\"\\n🧹 SK agent cleaned up\")\n",
    "\n",
    "# Run the SK currency agent\n",
    "await create_sk_currency_agent()\n",
    "print(\"\\n✅ Semantic Kernel Azure AI Agent with OpenAPI complete!\")"
   ]
  },
  {
   "cell_type": "code",
   "execution_count": null,
   "id": "c7d04488",
   "metadata": {},
   "outputs": [],
   "source": [
    "# Final cleanup - delete the Foundry SDK agent\n",
    "agents_client.delete_agent(currency_agent.id)\n",
    "print(\"🧹 All agents cleaned up\")"
   ]
  },
  {
   "cell_type": "markdown",
   "id": "3016a212",
   "metadata": {},
   "source": [
    "---\n",
    "\n",
    "## 🔄 Comparison: Foundry SDK vs Semantic Kernel OpenAPI\n",
    "\n",
    "| Aspect | Foundry SDK | Semantic Kernel (AzureAI) |\n",
    "|--------|-------------|---------------------------|\n",
    "| **Setup** | Direct OpenApiTool creation | Azure AI agent with OpenAPI tools |\n",
    "| **Agent Type** | Native Azure AI agent | AzureAIAgent wrapper |\n",
    "| **API Calls** | Built-in tool execution | SK orchestration + Azure AI power |\n",
    "| **Response** | Direct agent response | SK streaming with tool filtering |\n",
    "| **Context** | Thread-based conversation | SK thread management |\n",
    "\n",
    "### When to Use Each:\n",
    "\n",
    "**⚙️ Foundry SDK:**\n",
    "- Direct Azure AI agent usage\n",
    "- Simple OpenAPI tool integration\n",
    "- Native Azure AI features\n",
    "\n",
    "**🔌 Semantic Kernel:**\n",
    "- Rich SK orchestration features\n",
    "- Complex agent workflows\n",
    "- Leverage existing Azure AI agents in SK pipelines"
   ]
  },
  {
   "cell_type": "markdown",
   "id": "76709d9f",
   "metadata": {},
   "source": [
    "---\n",
    "\n",
    "## 💱 OpenAPI Currency Exchange Features\n",
    "\n",
    "### 🌍 Frankfurter API Capabilities:\n",
    "- **Real-time rates**: Latest foreign exchange rates\n",
    "- **Multiple currencies**: 30+ supported currencies\n",
    "- **Base currency**: Configure any currency as base\n",
    "- **Free access**: No API key required\n",
    "\n",
    "### 🔧 OpenAPI Tool Benefits:\n",
    "- **Auto-discovery**: Agents understand API capabilities\n",
    "- **Type safety**: OpenAPI schema validation\n",
    "- **Documentation**: Built-in API documentation\n",
    "- **Flexibility**: Easy to add new APIs\n",
    "\n",
    "### 💡 Best Practices:\n",
    "✅ **Always validate** OpenAPI specifications\n",
    "✅ **Handle errors** gracefully in agent instructions\n",
    "✅ **Use descriptive** tool names and descriptions\n",
    "✅ **Test thoroughly** with different currencies\n",
    "✅ **Consider rate limits** for production usage"
   ]
  },
  {
   "cell_type": "markdown",
   "id": "50cabc97",
   "metadata": {},
   "source": [
    "---\n",
    "\n",
    "## 🎯 Key Takeaways\n",
    "\n",
    "✅ **OpenAPI Tools (Both SDKs):**\n",
    "- Enable agents to call external APIs\n",
    "- Use OpenAPI specifications for auto-discovery\n",
    "- Support various authentication methods\n",
    "\n",
    "✅ **Foundry SDK:**\n",
    "- Use `OpenApiTool` for direct API integration\n",
    "- Perfect for straightforward API calls\n",
    "- Built-in Azure AI agent capabilities\n",
    "\n",
    "✅ **Semantic Kernel:**\n",
    "- Use `AzureAIAgent` for enhanced orchestration\n",
    "- Leverage SK's streaming and filtering\n",
    "- Combine with other SK features\n",
    "\n",
    "**🚀 Next Steps:**\n",
    "- Try with your own OpenAPI specifications\n",
    "- Experiment with authenticated APIs\n",
    "- Combine multiple OpenAPI tools in one agent\n",
    "- Explore rate limiting and error handling\n",
    "\n",
    "**Happy API integrating!** 🎉"
   ]
  }
 ],
 "metadata": {
  "kernelspec": {
   "display_name": ".venv",
   "language": "python",
   "name": "python3"
  },
  "language_info": {
   "codemirror_mode": {
    "name": "ipython",
    "version": 3
   },
   "file_extension": ".py",
   "mimetype": "text/x-python",
   "name": "python",
   "nbconvert_exporter": "python",
   "pygments_lexer": "ipython3",
   "version": "3.13.3"
  }
 },
 "nbformat": 4,
 "nbformat_minor": 5
}
